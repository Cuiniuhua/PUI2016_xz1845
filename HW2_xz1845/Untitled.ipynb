{
 "cells": [
  {
   "cell_type": "code",
   "execution_count": 21,
   "metadata": {
    "collapsed": false
   },
   "outputs": [
    {
     "data": {
      "text/plain": [
       "{'LANG': 'en_US.UTF-8', 'TERM': 'xterm-color', 'SHELL': '/bin/bash', 'MPLBACKEND': 'module://ipykernel.pylab.backend_inline', 'JPY_PARENT_PID': '61560', 'SHLVL': '0', 'DFDATA': '/gws/open/NYCOpenData/nycopendata/data', 'PUI2016': '/home/cusp/xz1845/PUI2016', 'CLICOLOR': '1', 'PUIDATA': '/home/cusp/xz1845/PUIdata', 'PWD': '/wingrdp/homedirs/xz1845/PUI2016_xz1845/HW2_xz1845', 'USER': 'xz1845', 'HOME': '/home/cusp/xz1845', 'PATH': '/opt/rh/v8314/root/usr/bin:/opt/rh/nodejs010/root/usr/bin:/opt/rh/rh-python34/root/usr/bin:/sbin:/usr/sbin:/bin:/usr/bin:/usr/local/bin', 'PAGER': 'cat', 'LD_LIBRARY_PATH': '/opt/rh/v8314/root/usr/lib64:/opt/rh/nodejs010/root/usr/lib64:/opt/rh/rh-python34/root/usr/lib64:/localhome/oracle/11g-client/product/11.2.0/client_1/lib', 'GIT_PAGER': 'cat'}"
      ]
     },
     "execution_count": 21,
     "metadata": {},
     "output_type": "execute_result"
    }
   ],
   "source": [
    "import os\n",
    "os.environ"
   ]
  },
  {
   "cell_type": "code",
   "execution_count": 22,
   "metadata": {
    "collapsed": false
   },
   "outputs": [
    {
     "name": "stdout",
     "output_type": "stream",
     "text": [
      "/gws/open/NYCOpenData/nycopendata/data\n"
     ]
    }
   ],
   "source": [
    "print os.environ.get('DFDATA')"
   ]
  },
  {
   "cell_type": "code",
   "execution_count": 23,
   "metadata": {
    "collapsed": false
   },
   "outputs": [
    {
     "name": "stdout",
     "output_type": "stream",
     "text": [
      "/gws/open/NYCOpenData/nycopendata/data/zkky-n5j3/1414246141/zkky-n5j3\n"
     ]
    }
   ],
   "source": [
    "data_loc = os.environ.get('DFDATA') + '/zkky-n5j3/1414246141/zkky-n5j3'\n",
    "print data_loc"
   ]
  },
  {
   "cell_type": "code",
   "execution_count": null,
   "metadata": {
    "collapsed": true
   },
   "outputs": [],
   "source": []
  },
  {
   "cell_type": "code",
   "execution_count": 24,
   "metadata": {
    "collapsed": true
   },
   "outputs": [],
   "source": [
    "import pandas as pd"
   ]
  },
  {
   "cell_type": "code",
   "execution_count": 25,
   "metadata": {
    "collapsed": false
   },
   "outputs": [],
   "source": [
    "data = pd.read_csv(data_loc)"
   ]
  },
  {
   "cell_type": "code",
   "execution_count": 26,
   "metadata": {
    "collapsed": false
   },
   "outputs": [
    {
     "data": {
      "text/html": [
       "<div>\n",
       "<table border=\"1\" class=\"dataframe\">\n",
       "  <thead>\n",
       "    <tr style=\"text-align: right;\">\n",
       "      <th></th>\n",
       "      <th>Neversink Date</th>\n",
       "      <th>Neversink Elevation</th>\n",
       "      <th>Neversink Storage</th>\n",
       "      <th>Rondout Date</th>\n",
       "      <th>Rondout Elevation</th>\n",
       "      <th>Rondout Storage</th>\n",
       "      <th>Schoharie Date</th>\n",
       "      <th>Schoharie Elevation</th>\n",
       "      <th>Schoharie Storage</th>\n",
       "      <th>Cannonsville Date</th>\n",
       "      <th>...</th>\n",
       "      <th>Cannonsville Storage</th>\n",
       "      <th>Pepacton Date</th>\n",
       "      <th>Pepacton Elevation</th>\n",
       "      <th>Pepacton Storage</th>\n",
       "      <th>Ashokan East Date</th>\n",
       "      <th>Ashokan East Elevation</th>\n",
       "      <th>Ashokan East Storage</th>\n",
       "      <th>Ashokan West Date</th>\n",
       "      <th>Ashokan West Elevation</th>\n",
       "      <th>Ashokan West Storage</th>\n",
       "    </tr>\n",
       "  </thead>\n",
       "  <tbody>\n",
       "    <tr>\n",
       "      <th>0</th>\n",
       "      <td>03/01/2005 04:00:00 PM +0000</td>\n",
       "      <td>1440.21</td>\n",
       "      <td>35570</td>\n",
       "      <td>03/01/2005 04:00:00 PM +0000</td>\n",
       "      <td>835.10</td>\n",
       "      <td>46757.0</td>\n",
       "      <td>03/01/2005 04:00:00 PM +0000</td>\n",
       "      <td>1130.09</td>\n",
       "      <td>19618.0</td>\n",
       "      <td>03/02/2005 04:00:00 PM +0000</td>\n",
       "      <td>...</td>\n",
       "      <td>97257.0</td>\n",
       "      <td>03/01/2005 04:00:00 PM +0000</td>\n",
       "      <td>1277.42</td>\n",
       "      <td>138986</td>\n",
       "      <td>03/01/2005 04:00:00 PM +0000</td>\n",
       "      <td>586.61</td>\n",
       "      <td>79856</td>\n",
       "      <td>03/01/2005 04:00:00 PM +0000</td>\n",
       "      <td>587.24</td>\n",
       "      <td>44432.0</td>\n",
       "    </tr>\n",
       "    <tr>\n",
       "      <th>1</th>\n",
       "      <td>03/02/2005 04:00:00 PM +0000</td>\n",
       "      <td>1440.22</td>\n",
       "      <td>35575</td>\n",
       "      <td>03/02/2005 04:00:00 PM +0000</td>\n",
       "      <td>834.98</td>\n",
       "      <td>46678.0</td>\n",
       "      <td>03/02/2005 04:00:00 PM +0000</td>\n",
       "      <td>1130.07</td>\n",
       "      <td>19610.0</td>\n",
       "      <td>03/03/2005 04:00:00 PM +0000</td>\n",
       "      <td>...</td>\n",
       "      <td>97193.0</td>\n",
       "      <td>03/02/2005 04:00:00 PM +0000</td>\n",
       "      <td>1277.26</td>\n",
       "      <td>138696</td>\n",
       "      <td>03/02/2005 04:00:00 PM +0000</td>\n",
       "      <td>586.61</td>\n",
       "      <td>79856</td>\n",
       "      <td>03/02/2005 04:00:00 PM +0000</td>\n",
       "      <td>586.93</td>\n",
       "      <td>44123.0</td>\n",
       "    </tr>\n",
       "    <tr>\n",
       "      <th>2</th>\n",
       "      <td>03/03/2005 04:00:00 PM +0000</td>\n",
       "      <td>1440.21</td>\n",
       "      <td>35570</td>\n",
       "      <td>03/03/2005 04:00:00 PM +0000</td>\n",
       "      <td>834.84</td>\n",
       "      <td>46585.0</td>\n",
       "      <td>03/03/2005 04:00:00 PM +0000</td>\n",
       "      <td>1130.05</td>\n",
       "      <td>19602.0</td>\n",
       "      <td>03/04/2005 04:00:00 PM +0000</td>\n",
       "      <td>...</td>\n",
       "      <td>97080.0</td>\n",
       "      <td>03/03/2005 04:00:00 PM +0000</td>\n",
       "      <td>1277.10</td>\n",
       "      <td>138406</td>\n",
       "      <td>03/03/2005 04:00:00 PM +0000</td>\n",
       "      <td>586.60</td>\n",
       "      <td>79839</td>\n",
       "      <td>03/03/2005 04:00:00 PM +0000</td>\n",
       "      <td>586.61</td>\n",
       "      <td>43804.0</td>\n",
       "    </tr>\n",
       "    <tr>\n",
       "      <th>3</th>\n",
       "      <td>03/04/2005 04:00:00 PM +0000</td>\n",
       "      <td>1440.21</td>\n",
       "      <td>35570</td>\n",
       "      <td>03/04/2005 04:00:00 PM +0000</td>\n",
       "      <td>834.85</td>\n",
       "      <td>46592.0</td>\n",
       "      <td>03/04/2005 04:00:00 PM +0000</td>\n",
       "      <td>1130.04</td>\n",
       "      <td>19599.0</td>\n",
       "      <td>03/05/2005 04:00:00 PM +0000</td>\n",
       "      <td>...</td>\n",
       "      <td>96951.0</td>\n",
       "      <td>03/04/2005 04:00:00 PM +0000</td>\n",
       "      <td>1276.90</td>\n",
       "      <td>138045</td>\n",
       "      <td>03/04/2005 04:00:00 PM +0000</td>\n",
       "      <td>586.61</td>\n",
       "      <td>79856</td>\n",
       "      <td>03/04/2005 04:00:00 PM +0000</td>\n",
       "      <td>586.31</td>\n",
       "      <td>43505.0</td>\n",
       "    </tr>\n",
       "    <tr>\n",
       "      <th>4</th>\n",
       "      <td>03/05/2005 04:00:00 PM +0000</td>\n",
       "      <td>1440.21</td>\n",
       "      <td>35570</td>\n",
       "      <td>03/05/2005 04:00:00 PM +0000</td>\n",
       "      <td>834.88</td>\n",
       "      <td>46612.0</td>\n",
       "      <td>03/05/2005 04:00:00 PM +0000</td>\n",
       "      <td>1130.04</td>\n",
       "      <td>19599.0</td>\n",
       "      <td>03/06/2005 04:00:00 PM +0000</td>\n",
       "      <td>...</td>\n",
       "      <td>96680.0</td>\n",
       "      <td>03/05/2005 04:00:00 PM +0000</td>\n",
       "      <td>1276.72</td>\n",
       "      <td>137721</td>\n",
       "      <td>03/05/2005 04:00:00 PM +0000</td>\n",
       "      <td>586.61</td>\n",
       "      <td>79856</td>\n",
       "      <td>03/05/2005 04:00:00 PM +0000</td>\n",
       "      <td>586.00</td>\n",
       "      <td>43197.0</td>\n",
       "    </tr>\n",
       "  </tbody>\n",
       "</table>\n",
       "<p>5 rows × 21 columns</p>\n",
       "</div>"
      ],
      "text/plain": [
       "   Neversink Date                Neversink Elevation  Neversink Storage  \\\n",
       "0  03/01/2005 04:00:00 PM +0000              1440.21              35570   \n",
       "1  03/02/2005 04:00:00 PM +0000              1440.22              35575   \n",
       "2  03/03/2005 04:00:00 PM +0000              1440.21              35570   \n",
       "3  03/04/2005 04:00:00 PM +0000              1440.21              35570   \n",
       "4  03/05/2005 04:00:00 PM +0000              1440.21              35570   \n",
       "\n",
       "      Rondout Date               Rondout Elevation  Rondout Storage  \\\n",
       "0  03/01/2005 04:00:00 PM +0000             835.10          46757.0   \n",
       "1  03/02/2005 04:00:00 PM +0000             834.98          46678.0   \n",
       "2  03/03/2005 04:00:00 PM +0000             834.84          46585.0   \n",
       "3  03/04/2005 04:00:00 PM +0000             834.85          46592.0   \n",
       "4  03/05/2005 04:00:00 PM +0000             834.88          46612.0   \n",
       "\n",
       "    Schoharie Date               Schoharie Elevation  Schoharie Storage  \\\n",
       "0  03/01/2005 04:00:00 PM +0000              1130.09            19618.0   \n",
       "1  03/02/2005 04:00:00 PM +0000              1130.07            19610.0   \n",
       "2  03/03/2005 04:00:00 PM +0000              1130.05            19602.0   \n",
       "3  03/04/2005 04:00:00 PM +0000              1130.04            19599.0   \n",
       "4  03/05/2005 04:00:00 PM +0000              1130.04            19599.0   \n",
       "\n",
       "  Cannonsville Date                       ...           Cannonsville Storage  \\\n",
       "0   03/02/2005 04:00:00 PM +0000          ...                        97257.0   \n",
       "1   03/03/2005 04:00:00 PM +0000          ...                        97193.0   \n",
       "2   03/04/2005 04:00:00 PM +0000          ...                        97080.0   \n",
       "3   03/05/2005 04:00:00 PM +0000          ...                        96951.0   \n",
       "4   03/06/2005 04:00:00 PM +0000          ...                        96680.0   \n",
       "\n",
       "    Pepacton Date               Pepacton Elevation  Pepacton Storage  \\\n",
       "0  03/01/2005 04:00:00 PM +0000            1277.42            138986   \n",
       "1  03/02/2005 04:00:00 PM +0000            1277.26            138696   \n",
       "2  03/03/2005 04:00:00 PM +0000            1277.10            138406   \n",
       "3  03/04/2005 04:00:00 PM +0000            1276.90            138045   \n",
       "4  03/05/2005 04:00:00 PM +0000            1276.72            137721   \n",
       "\n",
       "   Ashokan East Date              Ashokan East Elevation  \\\n",
       "0    03/01/2005 04:00:00 PM +0000                 586.61   \n",
       "1    03/02/2005 04:00:00 PM +0000                 586.61   \n",
       "2    03/03/2005 04:00:00 PM +0000                 586.60   \n",
       "3    03/04/2005 04:00:00 PM +0000                 586.61   \n",
       "4    03/05/2005 04:00:00 PM +0000                 586.61   \n",
       "\n",
       "   Ashokan East Storage  Ashokan West Date               \\\n",
       "0                 79856    03/01/2005 04:00:00 PM +0000   \n",
       "1                 79856    03/02/2005 04:00:00 PM +0000   \n",
       "2                 79839    03/03/2005 04:00:00 PM +0000   \n",
       "3                 79856    03/04/2005 04:00:00 PM +0000   \n",
       "4                 79856    03/05/2005 04:00:00 PM +0000   \n",
       "\n",
       "  Ashokan West Elevation  Ashokan West Storage  \n",
       "0                 587.24               44432.0  \n",
       "1                 586.93               44123.0  \n",
       "2                 586.61               43804.0  \n",
       "3                 586.31               43505.0  \n",
       "4                 586.00               43197.0  \n",
       "\n",
       "[5 rows x 21 columns]"
      ]
     },
     "execution_count": 26,
     "metadata": {},
     "output_type": "execute_result"
    }
   ],
   "source": [
    "data.head()"
   ]
  }
 ],
 "metadata": {
  "kernelspec": {
   "display_name": "PUI2016_Python2",
   "language": "python",
   "name": "pui2016_python2"
  },
  "language_info": {
   "codemirror_mode": {
    "name": "ipython",
    "version": 2
   },
   "file_extension": ".py",
   "mimetype": "text/x-python",
   "name": "python",
   "nbconvert_exporter": "python",
   "pygments_lexer": "ipython2",
   "version": "2.7.12"
  }
 },
 "nbformat": 4,
 "nbformat_minor": 0
}
